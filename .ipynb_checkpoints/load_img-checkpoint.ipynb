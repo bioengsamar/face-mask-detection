{
 "cells": [
  {
   "cell_type": "code",
   "execution_count": 4,
   "id": "velvet-sandwich",
   "metadata": {},
   "outputs": [
    {
     "ename": "ModuleNotFoundError",
     "evalue": "No module named 'ipynb'",
     "output_type": "error",
     "traceback": [
      "\u001b[1;31m---------------------------------------------------------------------------\u001b[0m",
      "\u001b[1;31mModuleNotFoundError\u001b[0m                       Traceback (most recent call last)",
      "\u001b[1;32m<ipython-input-4-e64641cbcb3a>\u001b[0m in \u001b[0;36m<module>\u001b[1;34m\u001b[0m\n\u001b[1;32m----> 1\u001b[1;33m \u001b[1;32mfrom\u001b[0m \u001b[0mipynb\u001b[0m\u001b[1;33m.\u001b[0m\u001b[0mfs\u001b[0m\u001b[1;33m.\u001b[0m\u001b[0mfull\u001b[0m\u001b[1;33m.\u001b[0m\u001b[0mmodel_CNN\u001b[0m \u001b[1;32mimport\u001b[0m \u001b[0mface_mask_detection_Model\u001b[0m\u001b[1;33m\u001b[0m\u001b[1;33m\u001b[0m\u001b[0m\n\u001b[0m\u001b[0;32m      2\u001b[0m \u001b[1;32mimport\u001b[0m \u001b[0mnumpy\u001b[0m \u001b[1;32mas\u001b[0m \u001b[0mnp\u001b[0m\u001b[1;33m\u001b[0m\u001b[1;33m\u001b[0m\u001b[0m\n\u001b[0;32m      3\u001b[0m \u001b[1;32mimport\u001b[0m \u001b[0mcv2\u001b[0m\u001b[1;33m\u001b[0m\u001b[1;33m\u001b[0m\u001b[0m\n\u001b[0;32m      4\u001b[0m \u001b[1;33m\u001b[0m\u001b[0m\n\u001b[0;32m      5\u001b[0m \u001b[0mimage\u001b[0m \u001b[1;33m=\u001b[0m \u001b[0mcv2\u001b[0m\u001b[1;33m.\u001b[0m\u001b[0mimread\u001b[0m\u001b[1;33m(\u001b[0m\u001b[1;34m'image/0-with-mask.jpg'\u001b[0m\u001b[1;33m,\u001b[0m\u001b[0mcv2\u001b[0m\u001b[1;33m.\u001b[0m\u001b[0mIMREAD_UNCHANGED\u001b[0m\u001b[1;33m)\u001b[0m\u001b[1;33m\u001b[0m\u001b[1;33m\u001b[0m\u001b[0m\n",
      "\u001b[1;31mModuleNotFoundError\u001b[0m: No module named 'ipynb'"
     ]
    }
   ],
   "source": [
    "from model_CNN import face_mask_detection_Model\n",
    "import numpy as np\n",
    "import cv2\n",
    "\n",
    "image = cv2.imread('image/0-with-mask.jpg',cv2.IMREAD_UNCHANGED)\n",
    "model = face_mask_detection_Model(\"model.json\", \"model_weights.h5\")\n",
    "roi = cv2.resize(image, (48, 48))\n",
    "pred = model_CNN.predict_class(roi[np.newaxis, :, :, np.newaxis])\n",
    "\n",
    "position = (10,50)\n",
    "img=cv2.putText(\n",
    "     image, #numpy array on which text is written\n",
    "     \"Python Examples\", #text\n",
    "     position, #position at which writing has to start\n",
    "     cv2.FONT_HERSHEY_SIMPLEX, #font family\n",
    "     1, #font size\n",
    "     (0,255,0), #font color\n",
    "     3) #font stroke\n",
    "# Start coordinate, here (5, 5) \n",
    "# represents the top left corner of rectangle \n",
    "start_point = (200, 50) \n",
    "  \n",
    "# Ending coordinate, here (220, 220) \n",
    "# represents the bottom right corner of rectangle \n",
    "end_point = (450, 250) \n",
    "  \n",
    "# Blue color in BGR \n",
    "color = (0, 255, 0) \n",
    "  \n",
    "# Line thickness of 2 px \n",
    "thickness = 2\n",
    "image = cv2.rectangle(img, start_point, end_point, color, thickness)\n",
    "cv2.imwrite('output.png', image)"
   ]
  },
  {
   "cell_type": "code",
   "execution_count": null,
   "id": "rocky-finding",
   "metadata": {},
   "outputs": [],
   "source": []
  }
 ],
 "metadata": {
  "kernelspec": {
   "display_name": "Python 3",
   "language": "python",
   "name": "python3"
  },
  "language_info": {
   "codemirror_mode": {
    "name": "ipython",
    "version": 3
   },
   "file_extension": ".py",
   "mimetype": "text/x-python",
   "name": "python",
   "nbconvert_exporter": "python",
   "pygments_lexer": "ipython3",
   "version": "3.8.6"
  }
 },
 "nbformat": 4,
 "nbformat_minor": 5
}
