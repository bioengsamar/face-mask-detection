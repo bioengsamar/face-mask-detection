{
 "cells": [
  {
   "cell_type": "code",
   "execution_count": 5,
   "metadata": {},
   "outputs": [
    {
     "name": "stdout",
     "output_type": "stream",
     "text": [
      "Epoch 1/4\n",
      "39/39 [==============================] - ETA: 0s - loss: 1.0032 - accuracy: 0.5897   ETA: 2:59 - loss: 1.1393 -WARNING:tensorflow:Can save best model only with val_acc available, skipping.\n",
      "39/39 [==============================] - 761s 20s/step - loss: 1.0032 - accuracy: 0.5897 - val_loss: 0.5946 - val_accuracy: 0.6232\n",
      "Epoch 2/4\n",
      "39/39 [==============================] - ETA: 0s - loss: 0.4262 - accuracy: 0.8094   ETA: 9:38 - loss: 0.4983  - ETA: 7:18 - loss: 0.4325 - accuracy: 0. - ETA: 6:49 - loss: 0.4218 - accuracy: 0. - ETA: 6:10 -WARNING:tensorflow:Can save best model only with val_acc available, skipping.\n",
      "39/39 [==============================] - 865s 22s/step - loss: 0.4262 - accuracy: 0.8094 - val_loss: 0.3804 - val_accuracy: 0.8623\n",
      "Epoch 3/4\n",
      "39/39 [==============================] - ETA: 0s - loss: 0.2961 - accuracy: 0.8772 WARNING:tensorflow:Can save best model only with val_acc available, skipping.\n",
      "39/39 [==============================] - 823s 21s/step - loss: 0.2961 - accuracy: 0.8772 - val_loss: 0.2154 - val_accuracy: 0.9275\n",
      "Epoch 4/4\n",
      "39/39 [==============================] - ETA: 0s - loss: 0.2292 - accuracy: 0.9128 WARNING:tensorflow:Can save best model only with val_acc available, skipping.\n",
      "39/39 [==============================] - 812s 21s/step - loss: 0.2292 - accuracy: 0.9128 - val_loss: 0.2018 - val_accuracy: 0.9203\n"
     ]
    }
   ],
   "source": [
    "#import tensorflow as tf\n",
    "from tensorflow.keras.models import Sequential\n",
    "from tensorflow.keras.layers import Dense, Activation, Flatten, Conv2D, MaxPooling2D\n",
    "from keras.callbacks import ModelCheckpoint\n",
    "import numpy as np\n",
    "import pickle\n",
    "\n",
    "pickle_in = open(\"X.pickle\",\"rb\")\n",
    "X = pickle.load(pickle_in)\n",
    "\n",
    "pickle_in = open(\"y.pickle\",\"rb\")\n",
    "y = pickle.load(pickle_in)\n",
    "\n",
    "X = X/255.0 #normalize ,, scale\n",
    "X= np.array(X)\n",
    "y= np.array(y)\n",
    "model = Sequential()\n",
    "\n",
    "model.add(Conv2D(256, (3, 3), input_shape=X.shape[1:]))\n",
    "model.add(Activation('relu'))\n",
    "model.add(MaxPooling2D(pool_size=(2, 2)))\n",
    "\n",
    "model.add(Conv2D(256, (3, 3)))\n",
    "model.add(Activation('relu'))\n",
    "model.add(MaxPooling2D(pool_size=(2, 2)))\n",
    "\n",
    "model.add(Flatten())  # this converts our 3D feature maps to 1D feature vectors\n",
    "\n",
    "model.add(Dense(64))\n",
    "\n",
    "model.add(Dense(1))\n",
    "model.add(Activation('sigmoid'))\n",
    "\n",
    "model.compile(loss='binary_crossentropy',\n",
    "              optimizer='adam',\n",
    "              metrics=['accuracy'])\n",
    "\n",
    "checkpoint = ModelCheckpoint(\"model_weights.h5\", monitor='val_acc', verbose=1, save_best_only=True, mode='max')\n",
    "callbacks_list = [checkpoint]\n",
    "\n",
    "model.fit(X, y, batch_size=32, epochs=4, validation_split=0.1, callbacks=callbacks_list)\n",
    "\n",
    "# serialize model structure to JSON\n",
    "model_json = model.to_json()\n",
    "with open(\"model.json\", \"w\") as json_file:\n",
    "    json_file.write(model_json)\n",
    "    \n",
    "# serialize weights to HDF5\n",
    "model.save_weights(\"model_weights.h5\")"
   ]
  },
  {
   "cell_type": "code",
   "execution_count": null,
   "metadata": {},
   "outputs": [],
   "source": []
  }
 ],
 "metadata": {
  "kernelspec": {
   "display_name": "Python 3",
   "language": "python",
   "name": "python3"
  },
  "language_info": {
   "codemirror_mode": {
    "name": "ipython",
    "version": 3
   },
   "file_extension": ".py",
   "mimetype": "text/x-python",
   "name": "python",
   "nbconvert_exporter": "python",
   "pygments_lexer": "ipython3",
   "version": "3.8.6"
  }
 },
 "nbformat": 4,
 "nbformat_minor": 4
}
